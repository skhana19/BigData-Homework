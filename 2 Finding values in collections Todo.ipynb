{
 "cells": [
  {
   "cell_type": "code",
   "execution_count": 1,
   "metadata": {},
   "outputs": [],
   "source": [
    "import random\n",
    "random.seed(1000)\n",
    "import matplotlib.pyplot as plt"
   ]
  },
  {
   "cell_type": "code",
   "execution_count": 2,
   "metadata": {},
   "outputs": [],
   "source": [
    "# number of elements in list\n",
    "n = 50\n",
    "\n",
    "# list of unsorted items\n",
    "items = [int(random.random()*n) for _ in range(n)]\n",
    "\n",
    "# value to be searched in list\n",
    "value = int(random.random()*n)\n",
    "\n",
    "# sorted list \n",
    "sorted_items = sorted(items)"
   ]
  },
  {
   "cell_type": "code",
   "execution_count": 3,
   "metadata": {},
   "outputs": [],
   "source": [
    "def find_element(items, value):\n",
    "    \"\"\"Linear search for a value in a list of items\n",
    "        args:\n",
    "            - items: unsorted list of items\n",
    "            - value: searched value\n",
    "        return:\n",
    "            - index of value or -1 if not in list\n",
    "    \"\"\"\n",
    "    # TODO\n",
    "    search_failed = -1\n",
    "    for i in range(len(items)):\n",
    "        if items[i] == value :\n",
    "            return i\n",
    "    return search_failed"
   ]
  },
  {
   "cell_type": "code",
   "execution_count": 4,
   "metadata": {},
   "outputs": [
    {
     "name": "stdout",
     "output_type": "stream",
     "text": [
      "36\n"
     ]
    }
   ],
   "source": [
    "index = find_element(items, value)\n",
    "print(index)"
   ]
  },
  {
   "cell_type": "code",
   "execution_count": 5,
   "metadata": {},
   "outputs": [
    {
     "name": "stdout",
     "output_type": "stream",
     "text": [
      "14\n"
     ]
    }
   ],
   "source": [
    "print(value)\n",
    "#get_item(items, index)"
   ]
  },
  {
   "cell_type": "code",
   "execution_count": 13,
   "metadata": {},
   "outputs": [
    {
     "ename": "AttributeError",
     "evalue": "module 'time' has no attribute 'wait'",
     "output_type": "error",
     "traceback": [
      "\u001b[1;31m---------------------------------------------------------------------------\u001b[0m",
      "\u001b[1;31mAttributeError\u001b[0m                            Traceback (most recent call last)",
      "\u001b[1;32m<ipython-input-13-0a9c3fbaa98e>\u001b[0m in \u001b[0;36m<module>\u001b[1;34m\u001b[0m\n\u001b[0;32m     18\u001b[0m \u001b[1;33m\u001b[0m\u001b[0m\n\u001b[0;32m     19\u001b[0m \u001b[0mstart\u001b[0m \u001b[1;33m=\u001b[0m \u001b[0mtime\u001b[0m\u001b[1;33m.\u001b[0m\u001b[0mtime\u001b[0m\u001b[1;33m(\u001b[0m\u001b[1;33m)\u001b[0m\u001b[1;33m\u001b[0m\u001b[1;33m\u001b[0m\u001b[0m\n\u001b[1;32m---> 20\u001b[1;33m \u001b[0mtime\u001b[0m\u001b[1;33m.\u001b[0m\u001b[0mwait\u001b[0m\u001b[1;33m(\u001b[0m\u001b[1;36m1\u001b[0m\u001b[1;33m)\u001b[0m\u001b[1;33m\u001b[0m\u001b[1;33m\u001b[0m\u001b[0m\n\u001b[0m\u001b[0;32m     21\u001b[0m \u001b[0mindex\u001b[0m \u001b[1;33m=\u001b[0m \u001b[0mfind_element\u001b[0m\u001b[1;33m(\u001b[0m\u001b[0mitems1\u001b[0m\u001b[1;33m,\u001b[0m \u001b[0mvalue1\u001b[0m\u001b[1;33m)\u001b[0m\u001b[1;33m\u001b[0m\u001b[1;33m\u001b[0m\u001b[0m\n\u001b[0;32m     22\u001b[0m \u001b[0mend\u001b[0m \u001b[1;33m=\u001b[0m \u001b[0mtime\u001b[0m\u001b[1;33m.\u001b[0m\u001b[0mtime\u001b[0m\u001b[1;33m(\u001b[0m\u001b[1;33m)\u001b[0m\u001b[1;33m\u001b[0m\u001b[1;33m\u001b[0m\u001b[0m\n",
      "\u001b[1;31mAttributeError\u001b[0m: module 'time' has no attribute 'wait'"
     ]
    }
   ],
   "source": [
    "# TODO Time your function with differently sized inputs by searching for each input size for a non-existing element and plot the change of the time to the size of the input\n",
    "\n",
    "#from timeit import default_timer as timer \n",
    "#start = timer() # do something ... end = timer() \n",
    "#print(end - start) # Time in seconds, e.g. 5.38091952400282\n",
    "\n",
    "import time\n",
    "\n",
    "#list with 500 entries\n",
    "items1 = [1 for _ in range(500)]\n",
    "value1 = 2\n",
    "#list with 50.000 entries\n",
    "items2 = [1 for _ in range(50000)]\n",
    "value2 = 2\n",
    "#list with 5. Mio entries\n",
    "items3 = [1 for _ in range(5000000)]\n",
    "value3 = 2\n",
    "\n",
    "start = time.time()\n",
    "index = find_element(items1, value1)\n",
    "end = time.time()\n",
    "time1 = end - start\n",
    "if time1 < 0:\n",
    "    time1 = time1*(-1)\n",
    "\n",
    "start = time.time()\n",
    "index = find_element(items2, value2)\n",
    "end = time.time()\n",
    "time2 = end - start \n",
    "if time2 < 0:\n",
    "    time2 = time2*(-1)\n",
    "    \n",
    "start = time.time()\n",
    "index = find_element(items3, value3)\n",
    "end = time.time()\n",
    "time3 = end - start \n",
    "if time3 < 0:\n",
    "    time3 = time3*(-1)\n",
    "    \n",
    "print(time1)\n",
    "print(time2)\n",
    "print(time3)\n",
    "\n",
    "\n",
    "plt.ylabel('Time')\n",
    "plt.xlabel('Entries')\n",
    "plt.plot([0, 500, 50000, 5000000] ,[0, time1, time2, time3])\n",
    "plt.show()"
   ]
  },
  {
   "cell_type": "code",
   "execution_count": 7,
   "metadata": {},
   "outputs": [
    {
     "name": "stdout",
     "output_type": "stream",
     "text": [
      "Comlexity is O(n)\n"
     ]
    }
   ],
   "source": [
    "#Question: What is the time complexity of searching for a value in an unsorted list?¶ \n",
    "#Big O Notation\n",
    "\n",
    "#TODO: Your answer\n",
    "\n",
    "print(\"Comlexity is O(n)\")"
   ]
  },
  {
   "cell_type": "code",
   "execution_count": 8,
   "metadata": {},
   "outputs": [],
   "source": [
    "#Find Value in Sorted list with Binary Search"
   ]
  },
  {
   "cell_type": "code",
   "execution_count": 9,
   "metadata": {},
   "outputs": [],
   "source": [
    "def find_sorted_recursive(items, value, start, end, previous_middle):\n",
    "    middle = int((start + end) / 2)\n",
    "    if items[middle] == value:\n",
    "        return middle\n",
    "    if middle == previous_middle:\n",
    "        return -1\n",
    "    if items[middle] < value:\n",
    "        return find_sorted_recursive(items, value, middle, end, middle)\n",
    "    if items[middle] > value:\n",
    "        return find_sorted_recursive(items, value, start, middle, middle)\n",
    "\n",
    "def find_sorted(items, value):\n",
    "    \"\"\"Bineary search for a value in a list of sorted items\n",
    "        args:\n",
    "            - items: sorted list of items\n",
    "            - value: searched value\n",
    "        return:\n",
    "            - index of value or -1 if not in list\n",
    "    \"\"\"\n",
    "    # TODO\n",
    "    return find_sorted_recursive(items, value, 0, len(items)-1, 0)"
   ]
  },
  {
   "cell_type": "code",
   "execution_count": 10,
   "metadata": {},
   "outputs": [
    {
     "data": {
      "text/plain": [
       "-1"
      ]
     },
     "execution_count": 10,
     "metadata": {},
     "output_type": "execute_result"
    }
   ],
   "source": [
    "# a value that is not in the list so that we get the worst case time\n",
    "value = n+1 \n",
    "find_sorted(sorted_items, value)"
   ]
  },
  {
   "cell_type": "code",
   "execution_count": 19,
   "metadata": {},
   "outputs": [
    {
     "name": "stdout",
     "output_type": "stream",
     "text": [
      "0.0003151893615722656\n",
      "0.0001659393310546875\n",
      "0.0014514923095703125\n",
      "0.0004515647888183594\n",
      "0.001634836196899414\n"
     ]
    },
    {
     "data": {
      "image/png": "[encoded data removed]",
      "text/plain": [
       "<Figure size 432x288 with 1 Axes>"
      ]
     },
     "metadata": {
      "needs_background": "light"
     },
     "output_type": "display_data"
    }
   ],
   "source": [
    "#Question:\n",
    "#Time your function with differently sized inputs by\n",
    "#searching for each input size for a non-existing element\n",
    "#and plot the change of the time to the size of the input\n",
    "# TODO\n",
    "#list with 500 entries\n",
    "items1 = [3 for _ in range(10000000)]\n",
    "value1 = 2\n",
    "#list with 5000 entries\n",
    "items2 = [3 for _ in range(20000000)]\n",
    "value2 = 2\n",
    "#list with 50.000 entries\n",
    "items3 = [3 for _ in range(30000000)]\n",
    "value3 = 2\n",
    "#list with 500.000 entries\n",
    "items4 = [3 for _ in range(40000000)]\n",
    "value4 = 2\n",
    "#list with 5. Mio entries\n",
    "items5 = [3 for _ in range(50000000)]\n",
    "value5 = 2\n",
    "\n",
    "start = time.time()\n",
    "time.sleep(1)\n",
    "find_sorted(items1, value1)\n",
    "end = time.time()\n",
    "time1 = end - start - 1\n",
    "\n",
    "start = time.time()\n",
    "time.sleep(1)\n",
    "find_sorted(items2, value2)\n",
    "end = time.time()\n",
    "time2 = end - start - 1\n",
    "    \n",
    "start = time.time()\n",
    "time.sleep(1)\n",
    "find_sorted(items3, value3)\n",
    "end = time.time()\n",
    "time3 = end - start - 1\n",
    "    \n",
    "start = time.time()\n",
    "time.sleep(1)\n",
    "find_sorted(items4, value4)\n",
    "end = time.time()\n",
    "time4 = end - start - 1\n",
    "    \n",
    "start = time.time()\n",
    "time.sleep(1)\n",
    "find_sorted(items5, value5)\n",
    "end = time.time()\n",
    "time5 = end - start - 1\n",
    "\n",
    "print(time1)\n",
    "print(time2)\n",
    "print(time3)\n",
    "print(time4)\n",
    "print(time5)\n",
    "\n",
    "\n",
    "plt.ylabel('Time')\n",
    "plt.xlabel('Entries')\n",
    "plt.plot([10000000, 20000000, 30000000, 40000000, 50000000] ,[time1, time2, time3, time4, time5])\n",
    "plt.show()"
   ]
  },
  {
   "cell_type": "code",
   "execution_count": 21,
   "metadata": {},
   "outputs": [
    {
     "name": "stdout",
     "output_type": "stream",
     "text": [
      "Comlexity is O(log n)\n"
     ]
    }
   ],
   "source": [
    "#Question: What is the time complexity of binary search?\n",
    "#Big O Notation\n",
    "\n",
    "print(\"Comlexity is O(log n)\")\n",
    "#TODO: To perform better it is better to use binary search because is reduces the search space and also the time compexity (O(logn))."
   ]
  }
 ],
 "metadata": {
  "kernelspec": {
   "display_name": "Python 3",
   "language": "python",
   "name": "python3"
  },
  "language_info": {
   "codemirror_mode": {
    "name": "ipython",
    "version": 3
   },
   "file_extension": ".py",
   "mimetype": "text/x-python",
   "name": "python",
   "nbconvert_exporter": "python",
   "pygments_lexer": "ipython3",
   "version": "3.7.3"
  }
 },
 "nbformat": 4,
 "nbformat_minor": 2
}
